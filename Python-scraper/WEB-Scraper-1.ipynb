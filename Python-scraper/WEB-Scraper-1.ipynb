{
 "cells": [
  {
   "cell_type": "code",
   "execution_count": 3,
   "id": "47d7f043",
   "metadata": {},
   "outputs": [
    {
     "name": "stdout",
     "output_type": "stream",
     "text": [
      "Defaulting to user installation because normal site-packages is not writeable\n",
      "Collecting autoscraper\n",
      "  Downloading autoscraper-1.1.14-py3-none-any.whl (10 kB)\n",
      "Requirement already satisfied: lxml in c:\\programdata\\anaconda3\\lib\\site-packages (from autoscraper) (4.8.0)\n",
      "Collecting bs4\n",
      "  Downloading bs4-0.0.1.tar.gz (1.1 kB)\n",
      "Requirement already satisfied: requests in c:\\programdata\\anaconda3\\lib\\site-packages (from autoscraper) (2.27.1)\n",
      "Requirement already satisfied: beautifulsoup4 in c:\\programdata\\anaconda3\\lib\\site-packages (from bs4->autoscraper) (4.11.1)\n",
      "Requirement already satisfied: soupsieve>1.2 in c:\\programdata\\anaconda3\\lib\\site-packages (from beautifulsoup4->bs4->autoscraper) (2.3.1)\n",
      "Requirement already satisfied: urllib3<1.27,>=1.21.1 in c:\\programdata\\anaconda3\\lib\\site-packages (from requests->autoscraper) (1.26.9)\n",
      "Requirement already satisfied: charset-normalizer~=2.0.0 in c:\\programdata\\anaconda3\\lib\\site-packages (from requests->autoscraper) (2.0.4)\n",
      "Requirement already satisfied: idna<4,>=2.5 in c:\\programdata\\anaconda3\\lib\\site-packages (from requests->autoscraper) (3.3)\n",
      "Requirement already satisfied: certifi>=2017.4.17 in c:\\programdata\\anaconda3\\lib\\site-packages (from requests->autoscraper) (2021.10.8)\n",
      "Building wheels for collected packages: bs4\n",
      "  Building wheel for bs4 (setup.py): started\n",
      "  Building wheel for bs4 (setup.py): finished with status 'done'\n",
      "  Created wheel for bs4: filename=bs4-0.0.1-py3-none-any.whl size=1272 sha256=02376e28d4c9e704ae07e569652f209417bf52d53faaff1e34c27cceb506bdbc\n",
      "  Stored in directory: c:\\users\\admin\\appdata\\local\\pip\\cache\\wheels\\73\\2b\\cb\\099980278a0c9a3e57ff1a89875ec07bfa0b6fcbebb9a8cad3\n",
      "Successfully built bs4\n",
      "Installing collected packages: bs4, autoscraper\n",
      "Successfully installed autoscraper-1.1.14 bs4-0.0.1\n"
     ]
    }
   ],
   "source": [
    "!pip install autoscraper"
   ]
  },
  {
   "cell_type": "code",
   "execution_count": 6,
   "id": "659eed78",
   "metadata": {},
   "outputs": [],
   "source": [
    "from autoscraper import AutoScraper"
   ]
  },
  {
   "cell_type": "code",
   "execution_count": 7,
   "id": "1f8ff9dc",
   "metadata": {},
   "outputs": [
    {
     "name": "stdout",
     "output_type": "stream",
     "text": [
      "['Poem', 'QR-code-reader-and-generator', 'Google-project-']\n"
     ]
    }
   ],
   "source": [
    "url=\"https://github.com/Aftabbs?tab=repositories\"\n",
    "#we can add one or multiple candidates here\n",
    "#we can also put url to retrieve data\n",
    "wanted_list=['poem','QR-code-reader-and-generator ']\n",
    "\n",
    "scraper=AutoScraper()\n",
    "result=scraper.build(url,wanted_list)\n",
    "print(result)\n",
    "# testing git\n"
   ]
  },
  {
   "cell_type": "code",
   "execution_count": 27,
   "id": "311bfaf3",
   "metadata": {},
   "outputs": [
    {
     "name": "stdout",
     "output_type": "stream",
     "text": [
      "['227', '65', '103', '556', '132', '273', '85', '184', '107', '562', '16', '52', '5', '39', '690', '1,149', '9', '382', '138', '272', '163', '569', '980', '759', '117', '978', '270', '195', '18', '1,531', 'spring-boot-react-fullstack-examples', 'deploy-spring-boot-to-azure', 'spring-boot-angular-fullstack-examples', 'full-stack-with-react-and-spring-boot', 'deploy-spring-boot-aws-eb', 'docker-crash-course', 'pcf-crash-course-with-spring-boot', 'MavenIn28Minutes', 'MockitoIn28Minutes', 'SpringIn28Minutes', 'RealWorldWebApplicationWithServletsAndJspIn28Minutes', 'spring-boot-vuejs-fullstack-examples', 'spring-microservices-v3', 'master-spring-and-spring-boot', 'java-tutorial-for-beginners', 'devops-master-class', 'in28minutes.com', 'spring-microservices-v2', 'roadmaps', 'ranga-karanam', 'in28minutes.github.io', 'course-material', 'spring-boot-examples', 'SpringMvcStepByStep', 'clean-code', 'spring-master-class', 'kubernetes-crash-course', 'functional-programming-with-java', 'cloud.in28minutes.com', 'spring-microservices']\n"
     ]
    }
   ],
   "source": [
    "\n",
    "url='https://github.com/in28minutes?tab=repositories'\n",
    "wanted_list=['227','spring-boot-react-fullstack-examples ']\n",
    "scraper=AutoScraper()\n",
    "result=scraper.build(url,wanted_list)\n",
    "print(result)"
   ]
  },
  {
   "cell_type": "code",
   "execution_count": 11,
   "id": "c23405e7",
   "metadata": {},
   "outputs": [
    {
     "data": {
      "text/plain": [
       "{'rule_09q9': ['227',\n",
       "  '65',\n",
       "  '103',\n",
       "  '556',\n",
       "  '132',\n",
       "  '273',\n",
       "  '85',\n",
       "  '184',\n",
       "  '107',\n",
       "  '562',\n",
       "  '16',\n",
       "  '52',\n",
       "  '5',\n",
       "  '39',\n",
       "  '690',\n",
       "  '1,149',\n",
       "  '9',\n",
       "  '382',\n",
       "  '138',\n",
       "  '272',\n",
       "  '163',\n",
       "  '569',\n",
       "  '980',\n",
       "  '759',\n",
       "  '117',\n",
       "  '978',\n",
       "  '270',\n",
       "  '195',\n",
       "  '18',\n",
       "  '1,531'],\n",
       " 'rule_niad': ['spring-boot-react-fullstack-examples',\n",
       "  'deploy-spring-boot-to-azure',\n",
       "  'spring-boot-angular-fullstack-examples',\n",
       "  'full-stack-with-react-and-spring-boot',\n",
       "  'deploy-spring-boot-aws-eb',\n",
       "  'docker-crash-course',\n",
       "  'pcf-crash-course-with-spring-boot',\n",
       "  'MavenIn28Minutes',\n",
       "  'MockitoIn28Minutes',\n",
       "  'SpringIn28Minutes',\n",
       "  'RealWorldWebApplicationWithServletsAndJspIn28Minutes',\n",
       "  'spring-boot-vuejs-fullstack-examples',\n",
       "  'spring-microservices-v3',\n",
       "  'master-spring-and-spring-boot',\n",
       "  'java-tutorial-for-beginners',\n",
       "  'devops-master-class',\n",
       "  'in28minutes.com',\n",
       "  'spring-microservices-v2',\n",
       "  'roadmaps',\n",
       "  'ranga-karanam',\n",
       "  'in28minutes.github.io',\n",
       "  'course-material',\n",
       "  'spring-boot-examples',\n",
       "  'SpringMvcStepByStep',\n",
       "  'clean-code',\n",
       "  'spring-master-class',\n",
       "  'kubernetes-crash-course',\n",
       "  'functional-programming-with-java',\n",
       "  'cloud.in28minutes.com',\n",
       "  'spring-microservices']}"
      ]
     },
     "execution_count": 11,
     "metadata": {},
     "output_type": "execute_result"
    }
   ],
   "source": [
    "#grouping \n",
    "scraper.get_result_similar('https://github.com/in28minutes?tab=repositories',grouped=True)"
   ]
  },
  {
   "cell_type": "code",
   "execution_count": 14,
   "id": "ed5d6baa",
   "metadata": {},
   "outputs": [],
   "source": [
    "#giving aliases for the serial codes\n",
    "scraper.set_rule_aliases({'rule_09q9':'stars','rule_niad':'Title'})\n",
    "scraper.keep_rules(['rule_09q9','rule_niad'])\n",
    "#to save the changes and in a \n",
    "scraper.save('github_repository_search')"
   ]
  },
  {
   "cell_type": "code",
   "execution_count": 20,
   "id": "ab5d1f9b",
   "metadata": {},
   "outputs": [],
   "source": [
    "scraper.load('github_repository_search')"
   ]
  },
  {
   "cell_type": "code",
   "execution_count": 23,
   "id": "def4e7ed",
   "metadata": {},
   "outputs": [],
   "source": [
    "result=scraper.get_result_similar('https://github.com/in28minutes?tab=repositories',group_by_alias=True,grouped=True)"
   ]
  },
  {
   "cell_type": "code",
   "execution_count": 24,
   "id": "4dfff0ee",
   "metadata": {},
   "outputs": [
    {
     "data": {
      "text/plain": [
       "['227',\n",
       " '65',\n",
       " '103',\n",
       " '556',\n",
       " '132',\n",
       " '273',\n",
       " '85',\n",
       " '184',\n",
       " '107',\n",
       " '562',\n",
       " '16',\n",
       " '52',\n",
       " '5',\n",
       " '39',\n",
       " '690',\n",
       " '1,149',\n",
       " '9',\n",
       " '382',\n",
       " '138',\n",
       " '272',\n",
       " '163',\n",
       " '569',\n",
       " '980',\n",
       " '759',\n",
       " '117',\n",
       " '978',\n",
       " '270',\n",
       " '195',\n",
       " '18',\n",
       " '1,531']"
      ]
     },
     "execution_count": 24,
     "metadata": {},
     "output_type": "execute_result"
    }
   ],
   "source": [
    "#we can access the alaises\n",
    "result['stars']"
   ]
  },
  {
   "cell_type": "code",
   "execution_count": 26,
   "id": "c2538808",
   "metadata": {},
   "outputs": [
    {
     "data": {
      "text/plain": [
       "['spring-boot-react-fullstack-examples',\n",
       " 'deploy-spring-boot-to-azure',\n",
       " 'spring-boot-angular-fullstack-examples',\n",
       " 'full-stack-with-react-and-spring-boot',\n",
       " 'deploy-spring-boot-aws-eb',\n",
       " 'docker-crash-course',\n",
       " 'pcf-crash-course-with-spring-boot',\n",
       " 'MavenIn28Minutes',\n",
       " 'MockitoIn28Minutes',\n",
       " 'SpringIn28Minutes',\n",
       " 'RealWorldWebApplicationWithServletsAndJspIn28Minutes',\n",
       " 'spring-boot-vuejs-fullstack-examples',\n",
       " 'spring-microservices-v3',\n",
       " 'master-spring-and-spring-boot',\n",
       " 'java-tutorial-for-beginners',\n",
       " 'devops-master-class',\n",
       " 'in28minutes.com',\n",
       " 'spring-microservices-v2',\n",
       " 'roadmaps',\n",
       " 'ranga-karanam',\n",
       " 'in28minutes.github.io',\n",
       " 'course-material',\n",
       " 'spring-boot-examples',\n",
       " 'SpringMvcStepByStep',\n",
       " 'clean-code',\n",
       " 'spring-master-class',\n",
       " 'kubernetes-crash-course',\n",
       " 'functional-programming-with-java',\n",
       " 'cloud.in28minutes.com',\n",
       " 'spring-microservices']"
      ]
     },
     "execution_count": 26,
     "metadata": {},
     "output_type": "execute_result"
    }
   ],
   "source": [
    "result['Title']"
   ]
  },
  {
   "cell_type": "code",
   "execution_count": null,
   "id": "9ae99c4f",
   "metadata": {},
   "outputs": [],
   "source": []
  }
 ],
 "metadata": {
  "kernelspec": {
   "display_name": "Python 3 (ipykernel)",
   "language": "python",
   "name": "python3"
  },
  "language_info": {
   "codemirror_mode": {
    "name": "ipython",
    "version": 3
   },
   "file_extension": ".py",
   "mimetype": "text/x-python",
   "name": "python",
   "nbconvert_exporter": "python",
   "pygments_lexer": "ipython3",
   "version": "3.9.12"
  }
 },
 "nbformat": 4,
 "nbformat_minor": 5
}
